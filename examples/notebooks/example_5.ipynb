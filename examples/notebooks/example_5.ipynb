{
 "cells": [
  {
   "cell_type": "code",
   "execution_count": null,
   "id": "6e386025-c5fc-4d51-a6c7-6f9dc27482d9",
   "metadata": {},
   "outputs": [],
   "source": [
    "from building3d.display.plot_objects import plot_objects\n",
    "from building3d.geom.building import Building\n",
    "from building3d.geom.operations.stitch_solids import stitch_solids\n",
    "from building3d.geom.predefined.solids.box import box\n",
    "from building3d.geom.zone import Zone\n",
    "\n",
    "import pyvista as pv\n",
    "pv.set_jupyter_backend('trame')"
   ]
  },
  {
   "cell_type": "code",
   "execution_count": null,
   "id": "38635b1a-f763-4c07-a143-ba093597349d",
   "metadata": {},
   "outputs": [],
   "source": [
    "solid_1 = box(5, 5, 3, name=\"solid_1\")\n",
    "solid_2 = box(3, 3, 2, (5, 1, 0), name=\"solid_2\")\n",
    "solid_3 = box(3, 3, 2, (0, 5, 0), name=\"solid_3\")\n",
    "solid_4 = box(3, 3, 2, (1, 1, 3), name=\"solid_4\")\n",
    "solid_5 = box(1, 1, 1, (0.5, 0.5, 5), name=\"solid_5\")\n",
    "solid_1, solid_2 = stitch_solids(solid_1, solid_2)\n",
    "solid_1, solid_3 = stitch_solids(solid_1, solid_3)\n",
    "solid_1, solid_4 = stitch_solids(solid_1, solid_4)\n",
    "solid_4, solid_5 = stitch_solids(solid_4, solid_5)\n",
    "zone = Zone(\"zone\")\n",
    "zone.add_solid(solid_1)\n",
    "zone.add_solid(solid_2)\n",
    "zone.add_solid(solid_3)\n",
    "zone.add_solid(solid_4)\n",
    "zone.add_solid(solid_5)\n",
    "building = Building(name=\"building\")\n",
    "building.add_zone(zone)"
   ]
  },
  {
   "cell_type": "code",
   "execution_count": null,
   "id": "a4bfa161-0cdf-4709-8619-e45729f8b567",
   "metadata": {},
   "outputs": [],
   "source": [
    "plot_objects(building)"
   ]
  }
 ],
 "metadata": {
  "kernelspec": {
   "display_name": "Python 3 (ipykernel)",
   "language": "python",
   "name": "python3"
  },
  "language_info": {
   "codemirror_mode": {
    "name": "ipython",
    "version": 3
   },
   "file_extension": ".py",
   "mimetype": "text/x-python",
   "name": "python",
   "nbconvert_exporter": "python",
   "pygments_lexer": "ipython3",
   "version": "3.10.12"
  }
 },
 "nbformat": 4,
 "nbformat_minor": 5
}
