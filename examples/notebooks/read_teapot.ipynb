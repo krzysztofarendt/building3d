{
 "cells": [
  {
   "cell_type": "code",
   "execution_count": null,
   "id": "125441b7-5047-42b8-8adf-ec404b50bc0d",
   "metadata": {},
   "outputs": [],
   "source": [
    "from building3d.display.plot_zone import plot_zone\n",
    "from building3d.io.stl import read_stl"
   ]
  },
  {
   "cell_type": "code",
   "execution_count": null,
   "id": "691f00c5-b7e2-4368-8be6-59f75546eea7",
   "metadata": {},
   "outputs": [],
   "source": [
    "teapot = read_stl(\"../../resources/utah_teapot.stl\")\n",
    "plot_zone(teapot)"
   ]
  }
 ],
 "metadata": {
  "kernelspec": {
   "display_name": "Python 3 (ipykernel)",
   "language": "python",
   "name": "python3"
  },
  "language_info": {
   "codemirror_mode": {
    "name": "ipython",
    "version": 3
   },
   "file_extension": ".py",
   "mimetype": "text/x-python",
   "name": "python",
   "nbconvert_exporter": "python",
   "pygments_lexer": "ipython3",
   "version": "3.10.12"
  }
 },
 "nbformat": 4,
 "nbformat_minor": 5
}
